{
 "cells": [
  {
   "cell_type": "markdown",
   "metadata": {},
   "source": [
    "# Deep Neural Networks (DNN)\n",
    "\n",
    "DNN is a classic deep learning algorithm.The optimization is derived from back propagation. Here we will try to build a model using python and tensorflow built-in respectively with MNIST dataset. MNIST dataset contains images of handwritten numbers and labels."
   ]
  },
  {
   "cell_type": "markdown",
   "metadata": {},
   "source": [
    "## Load MNIST dataset "
   ]
  },
  {
   "cell_type": "code",
   "execution_count": 39,
   "metadata": {
    "scrolled": true
   },
   "outputs": [],
   "source": [
    "from __future__ import absolute_import\n",
    "from __future__ import division\n",
    "from __future__ import print_function\n",
    "\n",
    "import sys, os\n",
    "import numpy as np\n",
    "import matplotlib.pyplot as plt\n",
    "import tensorflow as tf"
   ]
  },
  {
   "cell_type": "code",
   "execution_count": 49,
   "metadata": {
    "scrolled": true
   },
   "outputs": [
    {
     "name": "stdout",
     "output_type": "stream",
     "text": [
      "Extracting MNIST_data/train-images-idx3-ubyte.gz\n",
      "Extracting MNIST_data/train-labels-idx1-ubyte.gz\n",
      "Extracting MNIST_data/t10k-images-idx3-ubyte.gz\n",
      "Extracting MNIST_data/t10k-labels-idx1-ubyte.gz\n"
     ]
    }
   ],
   "source": [
    "from tensorflow.contrib.learn.python.learn.datasets.mnist import read_data_sets\n",
    "mnist = read_data_sets(\"MNIST_data/\", one_hot=True,reshape=True)"
   ]
  },
  {
   "cell_type": "code",
   "execution_count": 51,
   "metadata": {},
   "outputs": [
    {
     "name": "stdout",
     "output_type": "stream",
     "text": [
      "number of trainning sample is :55000\n",
      "number of test sample is :10000\n",
      "shape of x_train is :(55000, 784)\n",
      "shape of t_train is :(55000, 10)\n",
      "shape of x_test is :(10000, 784)\n",
      "shape of t_test is :(10000, 10)\n"
     ]
    }
   ],
   "source": [
    "x_train_origin = mnist.train.images\n",
    "t_train_origin = mnist.train.labels\n",
    "x_test_origin = mnist.test.images\n",
    "t_test_origin = mnist.test.labels\n",
    "\n",
    "m_train = x_train_origin.shape[0] \n",
    "m_test = x_test_origin.shape[0] \n",
    "num_px = x_train_origin.shape[1] \n",
    "\n",
    "num_category = 10 \n",
    "\n",
    "print(\"number of trainning sample is :\"+repr(m_train))\n",
    "print(\"number of test sample is :\"+repr(m_test))\n",
    "print(\"shape of x_train is :\"+repr(x_train_origin.shape))\n",
    "print(\"shape of t_train is :\"+repr(t_train_origin.shape))\n",
    "print(\"shape of x_test is :\"+repr(x_test_origin.shape))\n",
    "print(\"shape of t_test is :\"+repr(t_test_origin.shape))"
   ]
  },
  {
   "cell_type": "code",
   "execution_count": 52,
   "metadata": {},
   "outputs": [
    {
     "name": "stdout",
     "output_type": "stream",
     "text": [
      "shape of train_set_x is :(784, 55000)\n",
      "shape of train_set_y is :(10, 55000)\n",
      "shape of test_set_x is :(784, 10000)\n",
      "shape of test_set_y is :(10, 10000)\n"
     ]
    }
   ],
   "source": [
    "train_set_x = x_train_origin.T\n",
    "train_set_y = t_train_origin.T\n",
    "test_set_x = x_test_origin.T\n",
    "test_set_y  = t_test_origin.T\n",
    "\n",
    "print(\"shape of train_set_x is :\"+repr(train_set_x.shape))\n",
    "print(\"shape of train_set_y is :\"+repr(train_set_y.shape))\n",
    "print(\"shape of test_set_x is :\"+repr(test_set_x.shape))\n",
    "print(\"shape of test_set_y is :\"+repr(test_set_y.shape))"
   ]
  },
  {
   "cell_type": "code",
   "execution_count": 55,
   "metadata": {},
   "outputs": [
    {
     "data": {
      "text/plain": [
       "<matplotlib.image.AxesImage at 0x214801666d8>"
      ]
     },
     "execution_count": 55,
     "metadata": {},
     "output_type": "execute_result"
    },
    {
     "name": "stdout",
     "output_type": "stream",
     "text": [
      "y is:8\n"
     ]
    },
    {
     "data": {
      "image/png": "[encoded data removed]",
      "text/plain": [
       "<Figure size 432x288 with 1 Axes>"
      ]
     },
     "metadata": {
      "needs_background": "light"
     },
     "output_type": "display_data"
    }
   ],
   "source": [
    "# check a random  image and lable \n",
    "index = 5\n",
    "plt.imshow(x_train_origin[index].reshape((28,28)),cmap = plt.cm.gray)\n",
    "print(\"y is:\"+str(np.argmax(t_train_origin[index])))"
   ]
  },
  {
   "cell_type": "markdown",
   "metadata": {},
   "source": [
    "## Build DNN (native python)"
   ]
  },
  {
   "cell_type": "markdown",
   "metadata": {},
   "source": [
    "###  step 1 - sigmoid function"
   ]
  },
  {
   "cell_type": "code",
   "execution_count": 57,
   "metadata": {},
   "outputs": [],
   "source": [
    "def sigmoid(z):\n",
    "    \"\"\"\n",
    "    sigmoid function = 1/(1+exp(-z))\n",
    "    \"\"\"\n",
    "    return 1/(1+np.exp(-z))"
   ]
  },
  {
   "cell_type": "code",
   "execution_count": 58,
   "metadata": {},
   "outputs": [
    {
     "data": {
      "text/plain": [
       "(1.0, 0.5, 0.0)"
      ]
     },
     "execution_count": 58,
     "metadata": {},
     "output_type": "execute_result"
    }
   ],
   "source": [
    "# check \n",
    "sigmoid(100),sigmoid(0),sigmoid(-1000)"
   ]
  },
  {
   "cell_type": "markdown",
   "metadata": {},
   "source": [
    "### step 2 - initialize params w, b (weights in hidden layer)"
   ]
  },
  {
   "cell_type": "code",
   "execution_count": 67,
   "metadata": {},
   "outputs": [],
   "source": [
    "def initialize(dim, num_cat):\n",
    "    \"\"\"\n",
    "    dim - size of w\n",
    "    num_cat - label types \n",
    "    \"\"\"\n",
    "    w = np.zeros((dim, num_cat))\n",
    "    b = np.zeros((num_cat,1))\n",
    "    return w,b"
   ]
  },
  {
   "cell_type": "markdown",
   "metadata": {},
   "source": [
    "### step 3 - propagation"
   ]
  },
  {
   "cell_type": "code",
   "execution_count": 70,
   "metadata": {},
   "outputs": [],
   "source": [
    "def propagate(w,b,X,Y):\n",
    "    \"\"\"\n",
    "    Inputs\n",
    "    w : weights\n",
    "    b: bias\n",
    "    X: input\n",
    "    Y: label\n",
    "    return \n",
    "        grad - dw, db\n",
    "        cost\n",
    "    \"\"\"\n",
    "    m = X.shape[1]\n",
    "    # forward propagation\n",
    "    yhat = sigmoid(np.dot(w.T, X) + b)\n",
    "    cost = -np.sum((Y*np.log(yhat))+(1-Y)*np.log(1-yhat))/m\n",
    "    \n",
    "    # backward propagation\n",
    "    dw = np.dot(X, (yhat-Y).T)/m\n",
    "    db = np.sum((yhat - Y),axis=1)/m\n",
    "    db = db.reshape(b.shape)\n",
    "    \n",
    "    return dw,db,cost\n",
    "    "
   ]
  },
  {
   "cell_type": "markdown",
   "metadata": {},
   "source": [
    "### step 4 - optimizer"
   ]
  },
  {
   "cell_type": "code",
   "execution_count": 88,
   "metadata": {},
   "outputs": [],
   "source": [
    "def optimize(w,b,X,Y,num_iter,learning_rate):\n",
    "    costs = []\n",
    "    for i in range(num_iter):\n",
    "        dw,db,cost = propagate(w,b,X,Y)\n",
    "        w = w - learning_rate * dw\n",
    "        b = b - learning_rate * db\n",
    "        \n",
    "        if (i%50)==0:\n",
    "            costs.append(cost)\n",
    "            print('cost at iteration %d:%.5f'%(i,cost))\n",
    "    return {'w':w,'b':b},{'dw':dw,'db':db}, costs"
   ]
  },
  {
   "cell_type": "markdown",
   "metadata": {},
   "source": [
    "### step 5 - predict"
   ]
  },
  {
   "cell_type": "code",
   "execution_count": 90,
   "metadata": {},
   "outputs": [],
   "source": [
    "def predict(X,w,b):\n",
    "    m = X.shape[1]\n",
    "    yhats = sigmoid(np.dot(w.T,X) + b).T\n",
    "    y_pred_one_hot = np.zeros((b.shape[0],m))\n",
    "    y_pred_num = np.zeros((1,m))\n",
    "    for i in range(yhats.shape[0]):\n",
    "        max_idx = np.argmax(yhats[i])\n",
    "        y_pred_one_hot[max_idx,i] = 1\n",
    "        y_pred_num[0,i] =int(max_idx)\n",
    "    return y_pred_one_hot, y_pred_num\n",
    "        "
   ]
  },
  {
   "cell_type": "markdown",
   "metadata": {},
   "source": [
    "### step 6 - test model"
   ]
  },
  {
   "cell_type": "code",
   "execution_count": 92,
   "metadata": {},
   "outputs": [],
   "source": [
    "def model_DNN(train_set_x, train_set_y, test_set_x, test_set_y, num_cat, num_iter=2000, learning_rate=0.5):\n",
    "        \"\"\"\n",
    "    construct a model to predicate number picture\n",
    "    Arguments:\n",
    "        train_set_x-- training data,numpy array of shape(num_px*num_px,number of examples)\n",
    "        train_set_y -- the tag of trainning data  of shape (num_categories,number of examples)\n",
    "        test_set_x -- test examples,numpy array of shape (num_px*num_px,number of examples)\n",
    "        test_set_y -- the tag of test  data  of shape (num_categories,number of examples)\n",
    "        num_cat -- number of categories\n",
    "        number_iterations -- the number of iterate for optimize\n",
    "        learning_rate --\n",
    "\n",
    "        Return :\n",
    "        d -- dictionary contain info for model\n",
    "    \"\"\"\n",
    "        dim = train_set_x.shape[0]\n",
    "        # init w and b\n",
    "        w, b = initialize(dim, num_cat)\n",
    "        params, grads, costs = optimize(\n",
    "            w, b, train_set_x, train_set_y, num_iter=num_iter, learning_rate=learning_rate)\n",
    "        w = params[\"w\"]\n",
    "        b = params[\"b\"]\n",
    "\n",
    "        Y_pred_train_one_hot, Y_pred_train_num = predict(\n",
    "            train_set_x, w, b)\n",
    "        Y_pred_test_one_hot, Y_pred_test_num = predict(\n",
    "            test_set_x, w, b)\n",
    "\n",
    "        print(\"train accuracy: {} %\".format(\n",
    "            100 - np.mean(np.sum(np.abs(Y_pred_train_one_hot - train_set_y), axis=0)/2) * 100))\n",
    "        print(\"test accuracy: {} %\".format(\n",
    "            100 - np.mean(np.sum(np.abs(Y_pred_test_one_hot - test_set_y), axis=0)/2) * 100))\n",
    "\n",
    "       \n",
    "        return {\"w\":w,\n",
    "             \"b\":b,\n",
    "            \"costs\":costs,\n",
    "            \"Y_pred_train\":Y_pred_train_num,\n",
    "            \"Y_pred_train_one_hot\":Y_pred_train_one_hot,\n",
    "            \"Y_pred_test\":Y_pred_test_num,\n",
    "            \"Y_pred_test_one_hot\":Y_pred_test_one_hot,\n",
    "            \"learning_rate\":learning_rate,\n",
    "            \"iterations\":num_iter}"
   ]
  },
  {
   "cell_type": "code",
   "execution_count": 93,
   "metadata": {},
   "outputs": [
    {
     "name": "stdout",
     "output_type": "stream",
     "text": [
      "cost at iteration 0:6.93147\n",
      "cost at iteration 50:1.02978\n",
      "cost at iteration 100:0.90729\n",
      "cost at iteration 150:0.85156\n",
      "cost at iteration 200:0.81746\n",
      "cost at iteration 250:0.79367\n",
      "cost at iteration 300:0.77578\n",
      "cost at iteration 350:0.76166\n",
      "cost at iteration 400:0.75015\n",
      "cost at iteration 450:0.74052\n",
      "cost at iteration 500:0.73231\n",
      "cost at iteration 550:0.72520\n",
      "cost at iteration 600:0.71897\n",
      "cost at iteration 650:0.71345\n",
      "cost at iteration 700:0.70851\n",
      "cost at iteration 750:0.70406\n",
      "cost at iteration 800:0.70003\n",
      "cost at iteration 850:0.69635\n",
      "cost at iteration 900:0.69298\n",
      "cost at iteration 950:0.68987\n",
      "train accuracy: 91.21454545454546 %\n",
      "test accuracy: 91.68 %\n",
      "time:  644.4439554214478\n"
     ]
    }
   ],
   "source": [
    "import time\n",
    "starttime = time.time()\n",
    "number_categories = 10 \n",
    "d = model_DNN(train_set_x,train_set_y,test_set_x,test_set_y,num_cat = 10,num_iter=1000,learning_rate=0.6)\n",
    "print('time: ',(time.time()-starttime))"
   ]
  },
  {
   "cell_type": "markdown",
   "metadata": {},
   "source": [
    "### Results"
   ]
  },
  {
   "cell_type": "code",
   "execution_count": 101,
   "metadata": {},
   "outputs": [
    {
     "data": {
      "text/plain": [
       "<matplotlib.image.AxesImage at 0x21480410a20>"
      ]
     },
     "execution_count": 101,
     "metadata": {},
     "output_type": "execute_result"
    },
    {
     "name": "stdout",
     "output_type": "stream",
     "text": [
      "y is:6\n",
      "y_pred is:6\n"
     ]
    },
    {
     "data": {
      "image/png": "[encoded data removed]",
      "text/plain": [
       "<Figure size 432x288 with 1 Axes>"
      ]
     },
     "metadata": {
      "needs_background": "light"
     },
     "output_type": "display_data"
    }
   ],
   "source": [
    "index = 600\n",
    "y_pred_test = d[\"Y_pred_test\"]\n",
    "plt.imshow(test_set_x[:,index].reshape((28,28)),cmap = plt.cm.gray)\n",
    "print(\"y is:\"+str(np.argmax(test_set_y[:,index])))\n",
    "print(\"y_pred is:\"+str(int(y_pred_test[0,index])))"
   ]
  },
  {
   "cell_type": "code",
   "execution_count": 102,
   "metadata": {},
   "outputs": [
    {
     "data": {
      "text/plain": [
       "[<matplotlib.lines.Line2D at 0x2148046e390>]"
      ]
     },
     "execution_count": 102,
     "metadata": {},
     "output_type": "execute_result"
    },
    {
     "data": {
      "text/plain": [
       "Text(0.5, 0, 'iterations/hundreds')"
      ]
     },
     "execution_count": 102,
     "metadata": {},
     "output_type": "execute_result"
    },
    {
     "data": {
      "text/plain": [
       "Text(0, 0.5, 'costs')"
      ]
     },
     "execution_count": 102,
     "metadata": {},
     "output_type": "execute_result"
    },
    {
     "data": {
      "image/png": "[encoded data removed]",
      "text/plain": [
       "<Figure size 432x288 with 1 Axes>"
      ]
     },
     "metadata": {
      "needs_background": "light"
     },
     "output_type": "display_data"
    }
   ],
   "source": [
    "# cost \n",
    "plt.plot(d['costs'])\n",
    "plt.xlabel(\"iterations/hundreds\")\n",
    "plt.ylabel(\"costs\")\n",
    "plt.show()"
   ]
  },
  {
   "cell_type": "markdown",
   "metadata": {},
   "source": [
    "## Build Model with Tensorflow"
   ]
  },
  {
   "cell_type": "code",
   "execution_count": null,
   "metadata": {},
   "outputs": [],
   "source": [
    "mnist = read_data_sets(\"MNIST_data/\", one_hot=True,reshape=True)"
   ]
  },
  {
   "cell_type": "code",
   "execution_count": 114,
   "metadata": {},
   "outputs": [
    {
     "name": "stdout",
     "output_type": "stream",
     "text": [
      "0.9191\n"
     ]
    }
   ],
   "source": [
    "fea_num =784\n",
    "num_cat = 10\n",
    "learning_rate = 0.5\n",
    "\n",
    "# define params(weights, features, label)\n",
    "x = tf.placeholder(tf.float32, [None, fea_num])\n",
    "W = tf.Variable(tf.zeros([fea_num, num_cat]))\n",
    "b = tf.Variable(tf.zeros([num_cat]))\n",
    "y = tf.matmul(x, W) + b\n",
    "y_ = tf.placeholder(tf.float32, [None, num_cat])\n",
    "\n",
    "cross_entropy = tf.reduce_mean(tf.nn.softmax_cross_entropy_with_logits(labels=y_, logits=y))\n",
    "train_step = tf.train.GradientDescentOptimizer(learning_rate).minimize(cross_entropy)\n",
    "\n",
    "with tf.Session() as sess:\n",
    "    writer = tf.summary.FileWriter('./graphs/DNN',sess.graph)\n",
    "    tf.global_variables_initializer().run()\n",
    "    # training with 100 samples per epoch\n",
    "    for _ in range(1000):\n",
    "        batch_xs, batch_ys = mnist.train.next_batch(100)\n",
    "        sess.run(train_step, feed_dict={x: batch_xs, y_: batch_ys})\n",
    "\n",
    "    # check prediction\n",
    "    correct_prediction = tf.equal(tf.arg_max(y, 1), tf.arg_max(y_, 1))\n",
    "    accuracy = tf.reduce_mean(tf.cast(correct_prediction, tf.float32))\n",
    "    print(sess.run(accuracy, feed_dict={x: mnist.test.images,y_: mnist.test.labels}))\n",
    "writer.close()"
   ]
  }
 ],
 "metadata": {
  "kernelspec": {
   "display_name": "Python 3",
   "language": "python",
   "name": "python3"
  },
  "language_info": {
   "codemirror_mode": {
    "name": "ipython",
    "version": 3
   },
   "file_extension": ".py",
   "mimetype": "text/x-python",
   "name": "python",
   "nbconvert_exporter": "python",
   "pygments_lexer": "ipython3",
   "version": "3.7.3"
  }
 },
 "nbformat": 4,
 "nbformat_minor": 2
}
